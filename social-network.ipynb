{
 "cells": [
  {
   "metadata": {
    "_uuid": "8f2839f25d086af736a60e9eeb907d3b93b6e0e5",
    "_cell_guid": "b1076dfc-b9ad-4769-8c92-a6c4dae69d19",
    "trusted": true
   },
   "cell_type": "code",
   "source": [
    "# This Python 3 environment comes with many helpful analytics libraries installed\n",
    "# It is defined by the kaggle/python Docker image: https://github.com/kaggle/docker-python\n",
    "# For example, here's several helpful packages to load\n",
    "\n",
    "import numpy as np # linear algebra\n",
    "import pandas as pd # data processing, CSV file I/O (e.g. pd.read_csv)\n",
    "\n",
    "# Input data files are available in the read-only \"../input/\" directory\n",
    "# For example, running this (by clicking run or pressing Shift+Enter) will list all files under the input directory\n",
    "\n",
    "import os\n",
    "for dirname, _, filenames in os.walk('/kaggle/input'):\n",
    "    for filename in filenames:\n",
    "        print(os.path.join(dirname, filename))\n",
    "\n",
    "# You can write up to 5GB to the current directory (/kaggle/working/) that gets preserved as output when you create a version using \"Save & Run All\"\n",
    "# You can also write temporary files to /kaggle/temp/, but they won't be saved outside of the current session"
   ],
   "execution_count": 10,
   "outputs": []
  },
  {
   "metadata": {
    "_uuid": "d629ff2d2480ee46fbb7e2d37f6b5fab8052498a",
    "_cell_guid": "79c7e3d0-c299-4dcb-8224-4455121ee9b0",
    "trusted": true
   },
   "cell_type": "code",
   "source": [
    "import os\n",
    "import re\n",
    "import time\n",
    "from typing import List, Any, Union\n",
    "import pandas as pd\n",
    "import multiprocessing as mp\n",
    "import copy as cp\n",
    "import math"
   ],
   "execution_count": 11,
   "outputs": []
  },
  {
   "metadata": {
    "trusted": true
   },
   "cell_type": "code",
   "source": [
    "\n",
    "import os\n",
    "def buildGraph(data):\n",
    "    graph = {}\n",
    "    for line in data:\n",
    "        line = re.sub(r\"(?<=\\d)\\n\", \"\", line)\n",
    "        pattern = re.compile(\"(?<=\\d)\\t(?=\\d)\")\n",
    "        line = re.split(pattern, line)\n",
    "        graph[line[0]] = line[1:]\n",
    "    return graph\n",
    "\n",
    "def reFormatTestData(data):\n",
    "    format_data = []\n",
    "    for line in data:\n",
    "        line = re.sub(r\"(?<=\\d)\\n\", \"\", line)\n",
    "        pattern = re.compile(\"(?<=\\d)\\t(?=\\d)\")\n",
    "        line = re.split(pattern, line)\n",
    "        line[0] = int(line[0])\n",
    "        format_data.append(line)\n",
    "    return format_data\n",
    "\n",
    "# read train data\n",
    "file_dir = 'D:\\COMP90051\\COMP90051-A1\\comp90051-2020-sem2-proj1'\n",
    "file_name = \"SmallTrain.txt\"\n",
    "with open(os.path.join(file_dir, file_name)) as f:\n",
    "    graph = f.readlines()\n",
    "    graph = buildGraph(graph)\n",
    "\n",
    "# read test data\n",
    "test_name = \"SmallTest.txt\"\n",
    "with open(os.path.join(file_dir, test_name)) as f:\n",
    "    f.readline()\n",
    "    test_data = f.readlines()\n",
    "    test_data = reFormatTestData(test_data)\n",
    "\n",
    "print(len(graph))\n",
    "print(len(test_data))\n",
    "print(test_data[0:400])"
   ],
   "execution_count": 12,
   "outputs": [
    {
     "name": "stdout",
     "output_type": "stream",
     "text": [
      "3\n",
      "2\n",
      "[[1, '3', '1'], [2, '3', '4']]\n"
     ]
    }
   ]
  },
  {
   "cell_type": "code",
   "execution_count": 13,
   "outputs": [
    {
     "name": "stdout",
     "output_type": "stream",
     "text": [
      "5\n"
     ]
    }
   ],
   "source": [
    "'''\n",
    "### Edge Set Building\n",
    "'''\n",
    "def buildEdgeSet(graph):\n",
    "    edge_set = set()\n",
    "    # Positive train data\n",
    "    for key in graph:\n",
    "        for each in graph[key]:\n",
    "            edge_set.add((key,each))\n",
    "    return edge_set\n",
    "\n",
    "edge_set = buildEdgeSet(graph)\n",
    "\n",
    "print(len(edge_set))"
   ],
   "metadata": {
    "collapsed": false,
    "pycharm": {
     "name": "#%%\n"
    }
   }
  },
  {
   "cell_type": "code",
   "source": [],
   "metadata": {
    "collapsed": false,
    "pycharm": {
     "name": "#%%\n"
    }
   },
   "execution_count": 14,
   "outputs": [
    {
     "ename": "FileNotFoundError",
     "evalue": "[Errno 2] No such file or directory: '../input/trainandvalidationdata\\\\train_data.csv'",
     "output_type": "error",
     "traceback": [
      "\u001B[1;31m---------------------------------------------------------------------------\u001B[0m",
      "\u001B[1;31mFileNotFoundError\u001B[0m                         Traceback (most recent call last)",
      "\u001B[1;32m<ipython-input-14-03ea7b78083c>\u001B[0m in \u001B[0;36m<module>\u001B[1;34m\u001B[0m\n\u001B[0;32m      2\u001B[0m \u001B[0mfile_dir\u001B[0m \u001B[1;33m=\u001B[0m \u001B[1;34m'../input/trainandvalidationdata'\u001B[0m\u001B[1;33m\u001B[0m\u001B[1;33m\u001B[0m\u001B[0m\n\u001B[0;32m      3\u001B[0m \u001B[0mfile_name\u001B[0m \u001B[1;33m=\u001B[0m \u001B[1;34m\"train_data.csv\"\u001B[0m\u001B[1;33m\u001B[0m\u001B[1;33m\u001B[0m\u001B[0m\n\u001B[1;32m----> 4\u001B[1;33m \u001B[1;32mwith\u001B[0m \u001B[0mopen\u001B[0m\u001B[1;33m(\u001B[0m\u001B[0mos\u001B[0m\u001B[1;33m.\u001B[0m\u001B[0mpath\u001B[0m\u001B[1;33m.\u001B[0m\u001B[0mjoin\u001B[0m\u001B[1;33m(\u001B[0m\u001B[0mfile_dir\u001B[0m\u001B[1;33m,\u001B[0m \u001B[0mfile_name\u001B[0m\u001B[1;33m)\u001B[0m\u001B[1;33m)\u001B[0m \u001B[1;32mas\u001B[0m \u001B[0mf\u001B[0m\u001B[1;33m:\u001B[0m\u001B[1;33m\u001B[0m\u001B[1;33m\u001B[0m\u001B[0m\n\u001B[0m\u001B[0;32m      5\u001B[0m     \u001B[0mf\u001B[0m\u001B[1;33m.\u001B[0m\u001B[0mreadline\u001B[0m\u001B[1;33m(\u001B[0m\u001B[1;33m)\u001B[0m\u001B[1;33m\u001B[0m\u001B[1;33m\u001B[0m\u001B[0m\n\u001B[0;32m      6\u001B[0m     \u001B[0mtrain_data\u001B[0m \u001B[1;33m=\u001B[0m \u001B[1;33m[\u001B[0m\u001B[1;33m]\u001B[0m\u001B[1;33m\u001B[0m\u001B[1;33m\u001B[0m\u001B[0m\n",
      "\u001B[1;31mFileNotFoundError\u001B[0m: [Errno 2] No such file or directory: '../input/trainandvalidationdata\\\\train_data.csv'"
     ]
    }
   ]
  },
  {
   "metadata": {
    "trusted": true
   },
   "cell_type": "code",
   "source": [
    "'''\n",
    "### Feature Extraction\n",
    "'''\n",
    "\n",
    "'''\n",
    "##顶点度特征\n",
    "'''\n",
    "# feature 1: out,关注的人\n",
    "def getDegreeOut(node, graph):\n",
    "    degreeOut = set()\n",
    "    try:\n",
    "        degreeOut = set(graph[node])\n",
    "        return degreeOut\n",
    "    except:\n",
    "        return degreeOut\n",
    "\n",
    "# feature 2: in 关注我的人\n",
    "def getDegreeIn(node, graph):\n",
    "    degreeIn = set()\n",
    "    for key, value in graph.items():\n",
    "        if node in set(value):\n",
    "            degreeIn.add(key)\n",
    "    return degreeIn\n",
    "\n",
    "# feature3: Combin in and out\n",
    "def getNeighbors(node, graph):\n",
    "    degree_out = getDegreeOut(node, graph)\n",
    "    degree_in = getDegreeIn(node, graph)\n",
    "    neighbors = degree_out.union(degree_in)\n",
    "    return neighbors\n",
    "\n",
    "# feature 4: The Intersection of out and in 就是互关\n",
    "def feature4(a, graph):\n",
    "    out_a = getDegreeOut(a, graph)\n",
    "    in_a = getDegreeIn(a, graph)\n",
    "    return len(out_a.intersection(in_a))\n",
    "\n",
    "\n",
    "'''\n",
    "##共同邻居特征\n",
    "'''\n",
    "# feature 5: Common Neighbours of A and B\n",
    "def commonNeighbors(a, b, graph):\n",
    "    neighbors_a = getNeighbors(a, graph)\n",
    "    neighbors_b = getNeighbors(b, graph)\n",
    "    return len(neighbors_a.intersection(neighbors_b))\n",
    "\n",
    "# feature 6: Common Followees(in) of A and B\n",
    "def commonIn(a, b, graph):\n",
    "    in_a = getDegreeIn(a, graph)\n",
    "    in_b = getDegreeIn(b, graph)\n",
    "    return len(in_a.intersection(in_b))\n",
    "\n",
    "# feature 7: Common Followers(out) of A and B\n",
    "def commonOut(a, b, graph):\n",
    "    out_a = getDegreeOut(a, graph)\n",
    "    out_b = getDegreeOut(b, graph)\n",
    "    return len(out_a.intersection(out_b))\n",
    "\n",
    "'''\n",
    "##邻居总数特征\n",
    "'''\n",
    "# feature 8: Union Followers(out) of A and B\n",
    "def unionOut(a, b, graph):\n",
    "    out_a = getDegreeOut(a, graph)\n",
    "    out_b = getDegreeOut(b, graph)\n",
    "    return len(out_a.union(out_b))\n",
    "\n",
    "# feature 9: Union Followees(in) of A and B\n",
    "def unionIn(a, b, graph):\n",
    "    in_a = getDegreeIn(a, graph)\n",
    "    in_b = getDegreeIn(b, graph)\n",
    "    return len(in_a.union(in_b))\n",
    "\n",
    "# feature 10: Union Neighbours(out) of A and B\n",
    "def unionNeighbours(a, b, graph):\n",
    "    neighbours_a = getNeighbors(a, graph)\n",
    "    neighbours_b = getNeighbors(b, graph)\n",
    "    return len(neighbours_a.union(neighbours_b))\n",
    "\n",
    "'''\n",
    "##中介邻居特征\n",
    "'''\n",
    "# feature 11: Union Out of A and In of B\n",
    "def unionAoutBin(a, b, graph):\n",
    "    out_a = getDegreeOut(a, graph)\n",
    "    in_b = getDegreeIn(b, graph)\n",
    "    return len(out_a.union(in_b))\n",
    "\n",
    "'''\n",
    "##优先链接特征\n",
    "'''\n",
    "# feature 12: Product Neighbours of A and Neighbours of B\n",
    "def productAneighboursBneighbours(a, b, graph):\n",
    "    score = len(getNeighbors(a,graph)) * len(getNeighbors(b,graph))\n",
    "    return score\n",
    "\n",
    "'''\n",
    "##邻居评价特征\n",
    "'''\n",
    "# feature 13: all sum of edge exist between all neighbours of A and all neighbours of B\n",
    "def neighboursMeasure(a, b, graph):\n",
    "    neighbours_a = getNeighbors(a,graph)\n",
    "    neighbours_b = getNeighbors(b,graph)\n",
    "    score = 0\n",
    "    for each_a in neighbours_a:\n",
    "        for each_b in neighbours_b:\n",
    "            if(each_a == each_b or (each_a,each_b) in edge_set or (each_b,each_a) in edge_set):\n",
    "                score+=1\n",
    "    return score\n",
    "\n",
    "'''\n",
    "##反向关系特征\n",
    "'''\n",
    "# feature 14: all sum of edge exist between all neighbours of A and all neighbours of B\n",
    "def oppsiteDirection(a, b, graph):\n",
    "    score = 0\n",
    "    if (b,a) in edge_set:\n",
    "        score = 1\n",
    "    return score\n",
    "\n",
    "\n",
    "'''\n",
    "##邻居子图特征\n",
    "'''\n",
    "# feature 15: Subgraph of neighbours 1\n",
    "def neighboursSubgraph1(a, b, graph):\n",
    "    neighbours_a = getNeighbors(a,graph)\n",
    "    neighbours_b = getNeighbors(b,graph)\n",
    "    neighbours = list(neighbours_a.intersection(neighbours_b))\n",
    "    score = 0\n",
    "    for each_a in neighbours:\n",
    "        for each_b in neighbours:\n",
    "            if((each_a,each_b) in edge_set):\n",
    "                score+=1\n",
    "    return score\n",
    "\n",
    "# feature 16: Subgraph of neighbours 2\n",
    "def neighboursSubgraph2(a, b, graph):\n",
    "    neighbours_a = getNeighbors(a,graph)\n",
    "    neighbours_b = getNeighbors(b,graph)\n",
    "    neighbours = neighbours_a.intersection(neighbours_b)\n",
    "    neighbours.add(a)\n",
    "    neighbours.add(b)\n",
    "    neighbours = list(neighbours)\n",
    "    score = 0\n",
    "    for each_a in neighbours:\n",
    "        for each_b in neighbours:\n",
    "            if((each_a,each_b) in edge_set):\n",
    "                score+=1\n",
    "    return score\n",
    "\n",
    "\n",
    "# feature 17\n",
    "def GetJaccardCoefficient(user_X,user_y,graph):\n",
    "    neighbors_x = getNeighbors(user_X, graph)\n",
    "    neighbors_y = getNeighbors(user_y, graph)\n",
    "    CommonNeighbors=len(neighbors_x.intersection(neighbors_y))\n",
    "    AllNeighborss=len(neighbors_x.union(neighbors_y))\n",
    "    if AllNeighborss>=0:\n",
    "        JaccardCoefficient=CommonNeighbors/AllNeighborss\n",
    "    return JaccardCoefficient\n",
    "\n",
    "#feature 18 Adamic\n",
    "#邻居的邻居数量越少，就越凸显它作为“中间人”的重要性，毕竟一共只认识那么少人，却恰好是x，y的好朋友\n",
    "\n",
    "def GetAdamic(user_X,user_y,graph):\n",
    "    neighbors_x = getNeighbors(user_X, graph)\n",
    "    neighbors_y = getNeighbors(user_y, graph)\n",
    "    CommonNeighbors=neighbors_x.intersection(neighbors_y)\n",
    "    Adamic=0\n",
    "    for commonNeighbor in CommonNeighbors:\n",
    "        NeighborOfCommonNeighbor=len(getNeighbors(commonNeighbor,graph))\n",
    "        if NeighborOfCommonNeighbor!=0 and NeighborOfCommonNeighbor!=1:\n",
    "            Adamic+=1/math.log(NeighborOfCommonNeighbor)\n",
    "\n",
    "    return Adamic\n",
    "\n",
    "#feature 19\n",
    "#sumCoauthor\n",
    "def GetSumConeighbor(user_X,user_y,graph):\n",
    "    print(\"19\")\n",
    "    neighbors_x = getNeighbors(user_X, graph)\n",
    "    neighbors_y = getNeighbors(user_y, graph)\n",
    "    SumCoNeighbor=0\n",
    "    for Neighbor in neighbors_x:\n",
    "        print(\"a\")\n",
    "        NeighborOfNeighbor=len(getNeighbors(Neighbor,graph))\n",
    "        if NeighborOfNeighbor==1:\n",
    "            SumCoNeighbor+=1\n",
    "    for Neighbor in neighbors_y:\n",
    "        print(\"b\")\n",
    "        NeighborOfNeighbor=len(getNeighbors(Neighbor,graph))\n",
    "        if NeighborOfNeighbor==1:\n",
    "            SumCoNeighbor+=1\n",
    "    print(\"20\")\n",
    "    return SumCoNeighbor"
   ],
   "execution_count": 16,
   "outputs": []
  },
  {
   "cell_type": "markdown",
   "source": [
    "debugging methods"
   ],
   "metadata": {
    "collapsed": false,
    "pycharm": {
     "name": "#%% md\n"
    }
   }
  },
  {
   "cell_type": "code",
   "execution_count": 17,
   "outputs": [],
   "source": [
    "# Feature Extraction\n",
    "def getFeatures(record: list) -> list:\n",
    "    node = [record[0],\n",
    "            productAneighboursBneighbours(record[1],record[-1],graph),\n",
    "            neighboursMeasure(record[1],record[-1],graph),\n",
    "            oppsiteDirection(record[1],record[-1],graph),\n",
    "            neighboursSubgraph1(record[1],record[-1],graph),\n",
    "            neighboursSubgraph2(record[1],record[-1],graph),\n",
    "            GetJaccardCoefficient(record[1],record[-1],graph),\n",
    "            GetAdamic(record[1],record[-1],graph)]\n",
    "    return node\n"
   ],
   "metadata": {
    "collapsed": false,
    "pycharm": {
     "name": "#%%\n"
    }
   }
  },
  {
   "cell_type": "code",
   "source": [
    "print(len(validation_data))\n",
    "validation_data1 = validation_data[0:1000] + validation_data[10000:11000]\n",
    "print(len(validation_data1))\n"
   ],
   "metadata": {
    "collapsed": false,
    "pycharm": {
     "name": "#%%\n"
    }
   },
   "execution_count": 18,
   "outputs": [
    {
     "ename": "NameError",
     "evalue": "name 'validation_data' is not defined",
     "output_type": "error",
     "traceback": [
      "\u001B[1;31m---------------------------------------------------------------------------\u001B[0m",
      "\u001B[1;31mNameError\u001B[0m                                 Traceback (most recent call last)",
      "\u001B[1;32m<ipython-input-18-baab6395902d>\u001B[0m in \u001B[0;36m<module>\u001B[1;34m\u001B[0m\n\u001B[1;32m----> 1\u001B[1;33m \u001B[0mprint\u001B[0m\u001B[1;33m(\u001B[0m\u001B[0mlen\u001B[0m\u001B[1;33m(\u001B[0m\u001B[0mvalidation_data\u001B[0m\u001B[1;33m)\u001B[0m\u001B[1;33m)\u001B[0m\u001B[1;33m\u001B[0m\u001B[1;33m\u001B[0m\u001B[0m\n\u001B[0m\u001B[0;32m      2\u001B[0m \u001B[0mvalidation_data1\u001B[0m \u001B[1;33m=\u001B[0m \u001B[0mvalidation_data\u001B[0m\u001B[1;33m[\u001B[0m\u001B[1;36m0\u001B[0m\u001B[1;33m:\u001B[0m\u001B[1;36m1000\u001B[0m\u001B[1;33m]\u001B[0m \u001B[1;33m+\u001B[0m \u001B[0mvalidation_data\u001B[0m\u001B[1;33m[\u001B[0m\u001B[1;36m10000\u001B[0m\u001B[1;33m:\u001B[0m\u001B[1;36m11000\u001B[0m\u001B[1;33m]\u001B[0m\u001B[1;33m\u001B[0m\u001B[1;33m\u001B[0m\u001B[0m\n\u001B[0;32m      3\u001B[0m \u001B[0mprint\u001B[0m\u001B[1;33m(\u001B[0m\u001B[0mlen\u001B[0m\u001B[1;33m(\u001B[0m\u001B[0mvalidation_data1\u001B[0m\u001B[1;33m)\u001B[0m\u001B[1;33m)\u001B[0m\u001B[1;33m\u001B[0m\u001B[1;33m\u001B[0m\u001B[0m\n\u001B[0;32m      4\u001B[0m \u001B[1;33m\u001B[0m\u001B[0m\n\u001B[0;32m      5\u001B[0m \u001B[1;33m\u001B[0m\u001B[0m\n",
      "\u001B[1;31mNameError\u001B[0m: name 'validation_data' is not defined"
     ]
    }
   ]
  },
  {
   "metadata": {
    "trusted": true,
    "pycharm": {
     "name": "#%%\n"
    }
   },
   "cell_type": "code",
   "source": [
    "# Feature Extraction\n",
    "def getTestFeatures(record: list) -> list:\n",
    "    node= [record[0],productAneighboursBneighbours(record[1],record[-1],graph),\n",
    "            neighboursMeasure(record[1],record[-1],graph),\n",
    "            oppsiteDirection(record[1],record[-1],graph),\n",
    "            neighboursSubgraph1(record[1],record[-1],graph),\n",
    "            neighboursSubgraph2(record[1],record[-1],graph),\n",
    "            GetJaccardCoefficient(record[1],record[-1],graph),\n",
    "            GetAdamic(record[1],record[-1],graph)]\n",
    "    #print(node)\n",
    "    return node\n",
    "features=[]\n",
    "for record in test_data:\n",
    "    features.append(getTestFeatures(record))\n",
    "\n",
    "#print(features)\n",
    "title = [\"Id\", \"preferential_attachment_score\", \"neighboursMeasure\", \"oppsiteDirection\", \"neighboursSubgraph1\", \"neighboursSubgraph2\", \"JaccardCoefficient\",\"Adamic\"]\n",
    "test_pd = pd.DataFrame(columns=title, data=features)\n",
    "test_pd.to_csv('test_set_features_test.csv', encoding='utf-8')\n",
    "\n",
    "test_data.clear()\n",
    "features.clear()\n",
    "#test_pd.clear()\n",
    "\n"
   ],
   "execution_count": 19,
   "outputs": []
  },
  {
   "cell_type": "markdown",
   "source": [
    "following can be ignored.\n"
   ],
   "metadata": {
    "collapsed": false,
    "pycharm": {
     "name": "#%% md\n"
    }
   }
  },
  {
   "cell_type": "code",
   "execution_count": null,
   "outputs": [],
   "source": [],
   "metadata": {
    "collapsed": false,
    "pycharm": {
     "name": "#%%\n"
    }
   }
  }
 ],
 "metadata": {
  "kernelspec": {
   "language": "python",
   "display_name": "Python 3",
   "name": "python3"
  },
  "language_info": {
   "pygments_lexer": "ipython3",
   "nbconvert_exporter": "python",
   "version": "3.6.4",
   "file_extension": ".py",
   "codemirror_mode": {
    "name": "ipython",
    "version": 3
   },
   "name": "python",
   "mimetype": "text/x-python"
  }
 },
 "nbformat": 4,
 "nbformat_minor": 4
}